{
 "cells": [
  {
   "cell_type": "markdown",
   "metadata": {},
   "source": [
    "# Введение в анализ данных и обработку изображений\n",
    "\n",
    "## Что будет\n",
    "\n",
    "* обучение регрессии\n",
    "* обучение визуализации\n",
    "* сегментация\n",
    "* распознавание объектов\n",
    "* `Keras + TF` vs `PyTorch` \n",
    "\n",
    "## Обработка изображений\n",
    "\n",
    "* numpy, pandas, sklearn, Pillow, PyOpenCV, Tensorflow\n",
    "* Jupyter Notebook\n",
    "* PyCharm\n",
    "* Anaconda\n",
    "* PyQt5\n",
    "\n",
    "* Формат заданий\n",
    "    * Контестов не будет\n",
    "    * Jupyter notebook с заданием\n",
    "    * Kaggle competitions\n",
    "\n",
    "* Что ещё поботать?\n",
    "    * Python от Mail.ru Group\n",
    "    * Data Science"
   ]
  },
  {
   "cell_type": "markdown",
   "metadata": {},
   "source": [
    "## Пишем QSort"
   ]
  },
  {
   "cell_type": "code",
   "execution_count": 24,
   "metadata": {},
   "outputs": [],
   "source": [
    "import random\n",
    "def qsort(array:list) -> list:\n",
    "    less = []\n",
    "    equal = []\n",
    "    greater = []\n",
    "\n",
    "    if len(array) > 1:\n",
    "        \n",
    "        pivot = random.choice(array)\n",
    "        \n",
    "        for x in array:\n",
    "            if x < pivot:\n",
    "                less.append(x)\n",
    "                \n",
    "            if x == pivot:\n",
    "                equal.append(x)\n",
    "                \n",
    "            if x > pivot:\n",
    "                greater.append(x)\n",
    "                \n",
    "        return qsort(less) + equal + qsort(greater)\n",
    "\n",
    "    else:  \n",
    "        return array"
   ]
  },
  {
   "cell_type": "code",
   "execution_count": 25,
   "metadata": {
    "scrolled": true
   },
   "outputs": [
    {
     "data": {
      "text/plain": [
       "[1, 2, 4, 5, 6, 7, 8]"
      ]
     },
     "execution_count": 25,
     "metadata": {},
     "output_type": "execute_result"
    }
   ],
   "source": [
    "qsort([1,2,5,4,6,7,8])"
   ]
  },
  {
   "cell_type": "markdown",
   "metadata": {},
   "source": [
    "## Фишка принта питона 3.6+ : f-строки"
   ]
  },
  {
   "cell_type": "code",
   "execution_count": 26,
   "metadata": {},
   "outputs": [
    {
     "name": "stdout",
     "output_type": "stream",
     "text": [
      "name: Nickolas; age: 20\n"
     ]
    }
   ],
   "source": [
    "name='Nickolas'\n",
    "age=20\n",
    "\n",
    "print(f\"name: {name}; age: {age}\")"
   ]
  },
  {
   "cell_type": "code",
   "execution_count": 37,
   "metadata": {},
   "outputs": [],
   "source": []
  },
  {
   "cell_type": "code",
   "execution_count": 36,
   "metadata": {},
   "outputs": [],
   "source": []
  },
  {
   "cell_type": "code",
   "execution_count": null,
   "metadata": {},
   "outputs": [],
   "source": []
  }
 ],
 "metadata": {
  "kernelspec": {
   "display_name": "Python 3",
   "language": "python",
   "name": "python3"
  },
  "language_info": {
   "codemirror_mode": {
    "name": "ipython",
    "version": 3
   },
   "file_extension": ".py",
   "mimetype": "text/x-python",
   "name": "python",
   "nbconvert_exporter": "python",
   "pygments_lexer": "ipython3",
   "version": "3.7.0"
  }
 },
 "nbformat": 4,
 "nbformat_minor": 2
}
